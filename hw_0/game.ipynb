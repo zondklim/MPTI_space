{
 "cells": [
  {
   "cell_type": "markdown",
   "metadata": {},
   "source": [
    "<!DOCTYPE html>\n",
    "<html lang=\"en\">\n",
    "<head>\n",
    "    <meta charset=\"UTF-8\">\n",
    "    <meta name=\"viewport\" content=\"width=device-width, initial-scale=1.0\">\n",
    "    <title>Тестирование стратегий</title>\n",
    "    <link href=\"https://fonts.googleapis.com/css2?family=Roboto:wght@400&display=swap\" rel=\"stylesheet\">\n",
    "    <style>\n",
    "        .rounded-box {\n",
    "            font-family: 'Roboto', sans-serif;\n",
    "            font-size: 24px;\n",
    "            color: black;\n",
    "            border-radius: 15px;\n",
    "            background-color: lightgreen;\n",
    "            padding: 20px 20px 0px 20px;  /* увеличенный отступ снизу */\n",
    "            max-width: 400px;\n",
    "            text-align: center;\n",
    "            margin: 20px auto;\n",
    "        }\n",
    "    </style>\n",
    "</head>\n",
    "<body>\n",
    "\n",
    "<div class=\"rounded-box\">\n",
    "    Тестирование стратегий в соревновании \"угадай число\"\n",
    "\n",
    "    ______________________\n",
    "</div>\n",
    "\n",
    "</body>\n",
    "</html>\n"
   ]
  },
  {
   "cell_type": "markdown",
   "metadata": {},
   "source": [
    "## Импорты"
   ]
  },
  {
   "cell_type": "code",
   "execution_count": 1,
   "metadata": {},
   "outputs": [],
   "source": [
    "# импортируем все функции написанные в файле game\n",
    "from game import score_game\n",
    "from game import random_predict\n",
    "from game import game_core_v2\n",
    "from game import game_core_v3"
   ]
  },
  {
   "cell_type": "markdown",
   "metadata": {},
   "source": [
    "## Информация о функциях"
   ]
  },
  {
   "cell_type": "code",
   "execution_count": 2,
   "metadata": {},
   "outputs": [
    {
     "name": "stdout",
     "output_type": "stream",
     "text": [
      "\u001b[0;31mSignature:\u001b[0m \u001b[0mrandom_predict\u001b[0m\u001b[0;34m(\u001b[0m\u001b[0mnumber\u001b[0m\u001b[0;34m:\u001b[0m \u001b[0mint\u001b[0m \u001b[0;34m=\u001b[0m \u001b[0;36m1\u001b[0m\u001b[0;34m)\u001b[0m \u001b[0;34m->\u001b[0m \u001b[0mint\u001b[0m\u001b[0;34m\u001b[0m\u001b[0;34m\u001b[0m\u001b[0m\n",
      "\u001b[0;31mDocstring:\u001b[0m\n",
      "Просто угадываем на random, никак не используя информацию о больше или меньше.\n",
      "   Функция принимает загаданное число и возвращает число попыток\n",
      "\n",
      "Args:\n",
      "    number (int, optional): Загаданное число. Defaults to 1.\n",
      "\n",
      "Returns:\n",
      "    int: Число попыток\n",
      "\u001b[0;31mFile:\u001b[0m      ~/Desktop/python/vs_code/mpti_hw/hw_0/game.py\n",
      "\u001b[0;31mType:\u001b[0m      function"
     ]
    }
   ],
   "source": [
    "#узнаем, что из себя представляет эта функция\n",
    "?random_predict"
   ]
  },
  {
   "cell_type": "code",
   "execution_count": 3,
   "metadata": {},
   "outputs": [
    {
     "name": "stdout",
     "output_type": "stream",
     "text": [
      "\u001b[0;31mSignature:\u001b[0m \u001b[0mgame_core_v2\u001b[0m\u001b[0;34m(\u001b[0m\u001b[0mnumber\u001b[0m\u001b[0;34m:\u001b[0m \u001b[0mint\u001b[0m \u001b[0;34m=\u001b[0m \u001b[0;36m1\u001b[0m\u001b[0;34m)\u001b[0m \u001b[0;34m->\u001b[0m \u001b[0mint\u001b[0m\u001b[0;34m\u001b[0m\u001b[0;34m\u001b[0m\u001b[0m\n",
      "\u001b[0;31mDocstring:\u001b[0m\n",
      "В этой функции мы используем подход \"угадай и проверь\".\n",
      "Сначала устанавливаем любое random число, а потом уменьшаем\n",
      "или увеличиваем его в зависимости от того, больше оно или меньше нужного.\n",
      "Функция принимает загаданное число и возвращает число попыток.\n",
      "   \n",
      "Args:\n",
      "    number (int, optional): Загаданное число. Defaults to 1.\n",
      "\n",
      "Returns:\n",
      "    int: Число попыток\n",
      "\u001b[0;31mFile:\u001b[0m      ~/Desktop/python/vs_code/mpti_hw/hw_0/game.py\n",
      "\u001b[0;31mType:\u001b[0m      function"
     ]
    }
   ],
   "source": [
    "#узнаем, что из себя представляет эта функция\n",
    "?game_core_v2"
   ]
  },
  {
   "cell_type": "code",
   "execution_count": 4,
   "metadata": {},
   "outputs": [
    {
     "name": "stdout",
     "output_type": "stream",
     "text": [
      "\u001b[0;31mSignature:\u001b[0m \u001b[0mgame_core_v3\u001b[0m\u001b[0;34m(\u001b[0m\u001b[0mnumber\u001b[0m\u001b[0;34m:\u001b[0m \u001b[0mint\u001b[0m \u001b[0;34m=\u001b[0m \u001b[0;36m1\u001b[0m\u001b[0;34m)\u001b[0m \u001b[0;34m->\u001b[0m \u001b[0mint\u001b[0m\u001b[0;34m\u001b[0m\u001b[0;34m\u001b[0m\u001b[0m\n",
      "\u001b[0;31mDocstring:\u001b[0m\n",
      "Функция определяет, сколько попыток понадобится для нахождения заданного числа \n",
      "в списке от 1 до 100 с использованием метода бинарного поиска. \n",
      "\n",
      "Алгоритм работы:\n",
      "1. Формируется список от 1 до 100.\n",
      "2. Определяется центральный элемент списка.\n",
      "3. Если центральный элемент меньше заданного числа, то искомое число \n",
      "   находится в правой половине списка, иначе в левой.\n",
      "4. Определенная половина становится новым списком для поиска, \n",
      "   и процесс повторяется, пока число не будет найдено.\n",
      "\n",
      "Args:\n",
      "    number (int, optional): Загаданное число в диапазоне от 1 до 100. \n",
      "                            По умолчанию равно 1.\n",
      "\n",
      "Returns:\n",
      "    int: Число попыток, которое потребовалось для нахождения заданного числа.\n",
      "\u001b[0;31mFile:\u001b[0m      ~/Desktop/python/vs_code/mpti_hw/hw_0/game.py\n",
      "\u001b[0;31mType:\u001b[0m      function"
     ]
    }
   ],
   "source": [
    "#узнаем, что из себя представляет эта функция\n",
    "?game_core_v3"
   ]
  },
  {
   "cell_type": "code",
   "execution_count": 5,
   "metadata": {},
   "outputs": [
    {
     "name": "stdout",
     "output_type": "stream",
     "text": [
      "\u001b[0;31mSignature:\u001b[0m \u001b[0mscore_game\u001b[0m\u001b[0;34m(\u001b[0m\u001b[0mrandom_predict\u001b[0m\u001b[0;34m)\u001b[0m \u001b[0;34m->\u001b[0m \u001b[0mint\u001b[0m\u001b[0;34m\u001b[0m\u001b[0;34m\u001b[0m\u001b[0m\n",
      "\u001b[0;31mDocstring:\u001b[0m\n",
      "Оценка эффективности алгоритма угадывания.\n",
      "\n",
      "Функция проводит 10000 испытаний алгоритма угадывания и вычисляет среднее количество попыток, \n",
      "необходимых для успешного угадывания числа.\n",
      "\n",
      "Args:\n",
      "    random_predict (function): Функция угадывания.\n",
      "\n",
      "Returns:\n",
      "    int: Среднее количество попыток за 10000 испытаний.\n",
      "\u001b[0;31mFile:\u001b[0m      ~/Desktop/python/vs_code/mpti_hw/hw_0/game.py\n",
      "\u001b[0;31mType:\u001b[0m      function"
     ]
    }
   ],
   "source": [
    "#узнаем, что из себя представляет эта функция\n",
    "?score_game"
   ]
  },
  {
   "cell_type": "markdown",
   "metadata": {},
   "source": [
    "## Тесты"
   ]
  },
  {
   "cell_type": "code",
   "execution_count": 9,
   "metadata": {},
   "outputs": [
    {
     "name": "stdout",
     "output_type": "stream",
     "text": [
      "Алгоритм рандомного предсказания в среднем за 99 попыток угадывает правильное число\n"
     ]
    }
   ],
   "source": [
    "#тестируем функцию рандомного предсказания \n",
    "print(f'Алгоритм рандомного предсказания в среднем за {score_game(random_predict)} попыток угадывает правильное число')"
   ]
  },
  {
   "cell_type": "code",
   "execution_count": 11,
   "metadata": {},
   "outputs": [
    {
     "name": "stdout",
     "output_type": "stream",
     "text": [
      "Алгоритм, опирающуюся на информацию о числе, в среднем за 33 попыток угадывает правильное число\n"
     ]
    }
   ],
   "source": [
    "#тестируем функцию, опирающуюся на информацию о числе \n",
    "\n",
    "print(f'Алгоритм, опирающийса на информацию о числе, в среднем за {score_game(game_core_v2)} попыток угадывает правильное число')"
   ]
  },
  {
   "cell_type": "code",
   "execution_count": 12,
   "metadata": {},
   "outputs": [
    {
     "name": "stdout",
     "output_type": "stream",
     "text": [
      "Алгоритм бинарного поиска в среднем за 5 попыток угадывает правильное число\n"
     ]
    }
   ],
   "source": [
    "#тестируем функцию бинарного поиска\n",
    "\n",
    "print(f'Алгоритм бинарного поиска в среднем за {score_game(game_core_v3)} попыток угадывает правильное число')"
   ]
  },
  {
   "cell_type": "markdown",
   "metadata": {},
   "source": [
    "# Вывод"
   ]
  },
  {
   "cell_type": "markdown",
   "metadata": {},
   "source": [
    "<!DOCTYPE html>\n",
    "<html lang=\"en\">\n",
    "<head>\n",
    "    <meta charset=\"UTF-8\">\n",
    "    <meta name=\"viewport\" content=\"width=device-width, initial-scale=1.0\">\n",
    "    <title>Тестирование стратегий</title>\n",
    "    <link href=\"https://fonts.googleapis.com/css2?family=Roboto:wght@400&display=swap\" rel=\"stylesheet\">\n",
    "    <style> \n",
    "        .rounded-box {\n",
    "            font-size: 16px;\n",
    "            color: black;\n",
    "            border-radius: 15px;\n",
    "            background-color: lightgreen;  /* светло-зеленый фон */\n",
    "            padding: 20px 20px 0px 20px;\n",
    "            text-align: ;\n",
    "            margin: 20px 20px 0px 20px;  /* отступ сверху и снизу */\n",
    "        }\n",
    "    </style>\n",
    "</head>\n",
    "<body>\n",
    "\n",
    "<div class=\"rounded-box\">\n",
    "    В ходе тестирования мы получили следующие итоги:\n",
    "    <ul>\n",
    "        <li>Алгоритм рандомного поиска плохо справляется с этой задачей.</li>\n",
    "        <li>Алгоритм, основанный на информации о числе, не укладывается в лимит в 20 попыток.</li>\n",
    "        <li>Алгоритм бинарного поиска быстро и эффективно находит правильное число, значительно превосходя установленный порог.</li>\n",
    "    </ul>\n",
    "    Таким образом, можно сделать вывод о том, что задача была решена корректно, и выбранный алгоритм работает отлично.\n",
    "\n",
    "</div>\n",
    "\n",
    "</body>\n",
    "</html>\n",
    "\n"
   ]
  }
 ],
 "metadata": {
  "kernelspec": {
   "display_name": "Python 3",
   "language": "python",
   "name": "python3"
  },
  "language_info": {
   "codemirror_mode": {
    "name": "ipython",
    "version": 3
   },
   "file_extension": ".py",
   "mimetype": "text/x-python",
   "name": "python",
   "nbconvert_exporter": "python",
   "pygments_lexer": "ipython3",
   "version": "3.11.5"
  },
  "orig_nbformat": 4
 },
 "nbformat": 4,
 "nbformat_minor": 2
}
