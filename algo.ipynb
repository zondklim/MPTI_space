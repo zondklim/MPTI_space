{
 "cells": [
  {
   "cell_type": "markdown",
   "metadata": {},
   "source": [
    "# Развернуть массив"
   ]
  },
  {
   "cell_type": "code",
   "execution_count": 34,
   "metadata": {},
   "outputs": [],
   "source": [
    "def revers_array(arr): \n",
    "    left = 0\n",
    "    right = len(arr) - 1\n",
    "    \n",
    "    while left < right: \n",
    "        arr[left], arr[right] = arr[right], arr[left]\n",
    "        \n",
    "        left+=1\n",
    "        right-=1\n",
    "    \n",
    "    return arr"
   ]
  },
  {
   "cell_type": "code",
   "execution_count": 35,
   "metadata": {},
   "outputs": [],
   "source": [
    "assert revers_array([1, 2, 3, 4, 5, 6]) == [6, 5, 4, 3, 2, 1]\n",
    "assert revers_array([7, 8, 9, 10, 11]) == [11, 10, 9, 8, 7]\n",
    "assert revers_array([]) == []\n",
    "assert revers_array([42]) == [42]"
   ]
  },
  {
   "cell_type": "markdown",
   "metadata": {},
   "source": [
    "# Развернуть часть массива"
   ]
  },
  {
   "cell_type": "code",
   "execution_count": 45,
   "metadata": {},
   "outputs": [],
   "source": [
    "def revers_k(arr, k): \n",
    "    n = len(arr)\n",
    "    return revers_array(arr[n-k:])+arr[:n-k]"
   ]
  },
  {
   "cell_type": "code",
   "execution_count": 49,
   "metadata": {},
   "outputs": [],
   "source": [
    "assert revers_k([1, 2, 3, 4, 5, 6, 7], 3) == [7, 6, 5, 1, 2, 3, 4]\n",
    "assert revers_k([1, 2, 3, 4, 5, 6, 7], 7) == [7, 6, 5, 4, 3, 2, 1]\n",
    "assert revers_k([1, 2, 3, 4, 5, 6, 7], 5) == [7, 6, 5, 4, 3, 1, 2]\n",
    "assert revers_k([], 0) == []\n",
    "assert revers_k([42], 1) == [42]\n",
    "assert revers_k([1, 2, 3, 4, 5], 0) == [1, 2, 3, 4, 5]"
   ]
  },
  {
   "cell_type": "markdown",
   "metadata": {},
   "source": [
    "# Слияние двух отсортированных массивов"
   ]
  },
  {
   "cell_type": "code",
   "execution_count": 50,
   "metadata": {},
   "outputs": [],
   "source": [
    "def concat_array(arr0, arr1):\n",
    "    output = []\n",
    "    first = 0 \n",
    "    second = 0\n",
    "    while first < len(arr0) and second < len(arr1):\n",
    "        if arr0[first] < arr1[second]:\n",
    "            output.append(arr0[first])\n",
    "            first+=1\n",
    "        else:\n",
    "            output.append(arr1[second])\n",
    "            second+=1\n",
    "    return output + arr0[first:] + arr1[second:]"
   ]
  },
  {
   "cell_type": "code",
   "execution_count": 51,
   "metadata": {},
   "outputs": [],
   "source": [
    "assert concat_array([1, 3, 5], [2, 4, 6]) == [1, 2, 3, 4, 5, 6]\n",
    "assert concat_array([], [1, 2, 3]) == [1, 2, 3]\n",
    "assert concat_array([4, 5, 6], []) == [4, 5, 6]\n",
    "assert concat_array([], []) == []\n",
    "assert concat_array([1, 1, 2], [2, 3, 3]) == [1, 1, 2, 2, 3, 3]\n",
    "assert concat_array([-3, -2, -1], [1, 2, 3]) == [-3, -2, -1, 1, 2, 3]\n",
    "assert concat_array([1, 3], [2, 4, 5, 6]) == [1, 2, 3, 4, 5, 6]"
   ]
  },
  {
   "cell_type": "markdown",
   "metadata": {},
   "source": [
    "# Слияние двух отсортированных массивов. Без дополнительных аллокаций"
   ]
  },
  {
   "cell_type": "code",
   "execution_count": 89,
   "metadata": {},
   "outputs": [],
   "source": [
    "def concat_low_ram(arr0, arr1): \n",
    "    temp = len(arr0) - 1\n",
    "    second = len(arr1) - 1\n",
    "    first = temp - second - 1\n",
    "    \n",
    "    while second >= 0:\n",
    "        if arr0[first] > arr1[second]:\n",
    "            arr0[temp] = arr0[first]\n",
    "            arr0[first] = 0\n",
    "            first-=1\n",
    "            temp-=1\n",
    "        else:\n",
    "            arr0[temp] = arr1[second]\n",
    "            second-=1\n",
    "            temp-=1\n",
    "    return arr0"
   ]
  },
  {
   "cell_type": "code",
   "execution_count": 93,
   "metadata": {},
   "outputs": [],
   "source": [
    "arr0 = [1, 2, 3, 0, 0, 0]\n",
    "arr1 = []\n",
    "output = concat_low_ram(arr0, arr1)\n",
    "assert output == [1, 2, 3, 0, 0, 0]\n",
    "\n",
    "arr0 = [-3, -2, -1, 0, 0, 0]\n",
    "arr1 = [1, 2, 3]\n",
    "output = concat_low_ram(arr0, arr1)\n",
    "assert output == [-3, -2, -1, 1, 2, 3]\n",
    "\n",
    "\n",
    "arr0 = [1, 2, 3, 0, 0, 0]\n",
    "arr1 = [2, 3, 4]\n",
    "output = concat_low_ram(arr0, arr1)\n",
    "assert output == [1, 2, 2, 3, 3, 4]\n",
    "\n",
    "\n",
    "arr0 = [1, 2, 0, 0, 0, 0]\n",
    "arr1 = [3, 4, 5, 6]\n",
    "output = concat_low_ram(arr0, arr1)\n",
    "assert output == [1, 2, 3, 4, 5, 6]"
   ]
  },
  {
   "cell_type": "markdown",
   "metadata": {},
   "source": [
    "# Нули в конец"
   ]
  },
  {
   "cell_type": "code",
   "execution_count": 95,
   "metadata": {},
   "outputs": [],
   "source": [
    "def zero_end(arr):\n",
    "    left = 0\n",
    "    right = len(arr) - 1\n",
    "    \n",
    "    while left < right:\n",
    "        if arr[right] == 0:\n",
    "            right-=1\n",
    "        elif arr[left] == 0:\n",
    "            arr[left] = arr[right]\n",
    "            arr[right] = 0\n",
    "            left+=1\n",
    "            right-=1\n",
    "        else:\n",
    "            left+=1\n",
    "    return arr"
   ]
  },
  {
   "cell_type": "code",
   "execution_count": 101,
   "metadata": {},
   "outputs": [
    {
     "data": {
      "text/plain": [
       "[1, 2, 4, 3, 0]"
      ]
     },
     "execution_count": 101,
     "metadata": {},
     "output_type": "execute_result"
    }
   ],
   "source": [
    "zero_end([1, 2, 0, 3, 4])"
   ]
  },
  {
   "cell_type": "code",
   "execution_count": 102,
   "metadata": {},
   "outputs": [],
   "source": [
    "assert zero_end([3, 0, 4, 5, 0, 1, 2]) == [3, 2, 4, 5, 1, 0, 0]\n",
    "assert zero_end([0, 0, 0, 0]) == [0, 0, 0, 0]\n",
    "assert zero_end([1, 2, 3, 4, 5]) == [1, 2, 3, 4, 5]\n",
    "assert zero_end([0, 0, 1, 2, 3, 0, 4]) == [4, 3, 1, 2, 0, 0, 0]\n",
    "assert zero_end([1, 2, 0, 3, 4]) == [1, 2, 4, 3, 0]"
   ]
  },
  {
   "cell_type": "markdown",
   "metadata": {},
   "source": [
    "# Очень лёгкая задача"
   ]
  },
  {
   "cell_type": "code",
   "execution_count": 103,
   "metadata": {},
   "outputs": [],
   "source": [
    "def copy_time(n, x, y):\n",
    "    left=0\n",
    "    right = (n-1)*max(x, y)\n",
    "    while left < right:\n",
    "        mid = (right+left)//2\n",
    "        \n",
    "        if (mid/x + mid/y) < n - 1:\n",
    "            left = mid+1\n",
    "        else:\n",
    "            right = mid\n",
    "    return right + min(x, y)"
   ]
  },
  {
   "cell_type": "code",
   "execution_count": 117,
   "metadata": {},
   "outputs": [],
   "source": [
    "assert copy_time(1, 1, 1) == 1\n",
    "assert copy_time(1000, 1, 1) == 501\n",
    "assert copy_time(5, 1, 2) == 4"
   ]
  },
  {
   "cell_type": "markdown",
   "metadata": {},
   "source": [
    "# Является ли одна строка подпоследовательностью другой строки"
   ]
  },
  {
   "cell_type": "code",
   "execution_count": 119,
   "metadata": {},
   "outputs": [],
   "source": [
    "def sub_str(a, b):\n",
    "    q = []\n",
    "    for el in a:\n",
    "        q.append(el)\n",
    "    q.append(0)\n",
    "    for el in b:\n",
    "        if q[0] == el:\n",
    "            q.pop(0)\n",
    "    return len(q) == 1"
   ]
  },
  {
   "cell_type": "code",
   "execution_count": 121,
   "metadata": {},
   "outputs": [],
   "source": [
    "assert sub_str(\"uio\", \"quefio\") == True\n",
    "assert sub_str(\"uio\", \"quefzo\") == False\n",
    "assert sub_str(\"hello\", \"hello\") == True\n",
    "assert sub_str(\"\", \"anything\") == True\n",
    "assert sub_str(\"anything\", \"\") == False\n",
    "assert sub_str(\"aa\", \"aaaaaa\") == True"
   ]
  },
  {
   "cell_type": "code",
   "execution_count": 130,
   "metadata": {},
   "outputs": [],
   "source": [
    "def scrt(num):\n",
    "    left = 0\n",
    "    right = num\n",
    "    \n",
    "    while left < right:\n",
    "        mid = (left+right)//2\n",
    "        if mid**2 < num:\n",
    "            left = mid+1\n",
    "        else:\n",
    "            right = mid\n",
    "    return right"
   ]
  },
  {
   "cell_type": "code",
   "execution_count": 131,
   "metadata": {},
   "outputs": [],
   "source": [
    "assert scrt(16) == 4\n",
    "assert scrt(0) == 0\n",
    "assert scrt(144) == 12 \n",
    "assert scrt(25) == 5 "
   ]
  }
 ],
 "metadata": {
  "kernelspec": {
   "display_name": "base",
   "language": "python",
   "name": "python3"
  },
  "language_info": {
   "codemirror_mode": {
    "name": "ipython",
    "version": 3
   },
   "file_extension": ".py",
   "mimetype": "text/x-python",
   "name": "python",
   "nbconvert_exporter": "python",
   "pygments_lexer": "ipython3",
   "version": "3.9.13"
  },
  "orig_nbformat": 4
 },
 "nbformat": 4,
 "nbformat_minor": 2
}
